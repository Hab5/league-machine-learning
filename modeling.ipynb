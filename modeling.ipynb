{
 "metadata": {
  "language_info": {
   "codemirror_mode": {
    "name": "ipython",
    "version": 3
   },
   "file_extension": ".py",
   "mimetype": "text/x-python",
   "name": "python",
   "nbconvert_exporter": "python",
   "pygments_lexer": "ipython3",
   "version": "3.8.5-final"
  },
  "orig_nbformat": 2,
  "kernelspec": {
   "name": "Python 3.8.5 64-bit",
   "display_name": "Python 3.8.5 64-bit",
   "metadata": {
    "interpreter": {
     "hash": "767d51c1340bd893661ea55ea3124f6de3c7a262a8b4abca0554b478b1e2ff90"
    }
   }
  }
 },
 "nbformat": 4,
 "nbformat_minor": 2,
 "cells": [
  {
   "cell_type": "code",
   "execution_count": 16,
   "metadata": {},
   "outputs": [],
   "source": [
    "from Processing import Processing\n",
    "import matplotlib.pyplot as plt\n",
    "from pprint import pprint\n",
    "import seaborn as sns\n",
    "import pandas as pd\n",
    "import numpy as np\n",
    "\n",
    "%matplotlib inline\n",
    "sns.set_style('darkgrid')"
   ]
  },
  {
   "cell_type": "code",
   "execution_count": 17,
   "metadata": {
    "tags": []
   },
   "outputs": [],
   "source": [
    "# df, df_viz = Processing().run()\n",
    "# df.to_csv('data/data.csv', index=False)\n",
    "# df_viz.to_csv('data/viz.csv', index=False)"
   ]
  },
  {
   "cell_type": "code",
   "execution_count": 18,
   "metadata": {},
   "outputs": [],
   "source": [
    "df = pd.read_csv('data/data.csv')\n",
    "df_viz = pd.read_csv('data/viz.csv')"
   ]
  },
  {
   "cell_type": "code",
   "execution_count": 19,
   "metadata": {},
   "outputs": [
    {
     "output_type": "stream",
     "name": "stdout",
     "text": [
      "<class 'pandas.core.frame.DataFrame'>\nRangeIndex: 77357 entries, 0 to 77356\nData columns (total 31 columns):\n #   Column              Non-Null Count  Dtype  \n---  ------              --------------  -----  \n 0   accountLevel        77357 non-null  float64\n 1   ranks               77357 non-null  float64\n 2   gamesPlayed         77357 non-null  int64  \n 3   winrate             77357 non-null  float64\n 4   playingMainRoles    77357 non-null  int64  \n 5   playingAltRoles     77357 non-null  int64  \n 6   playingMains        77357 non-null  int64  \n 7   mainMasteryLvl      77357 non-null  float64\n 8   mainMasteryPts      77357 non-null  float64\n 9   kills               77357 non-null  int64  \n 10  assists             77357 non-null  int64  \n 11  deaths              77357 non-null  int64  \n 12  xp                  77357 non-null  int64  \n 13  gold                77357 non-null  int64  \n 14  minionsKilled       77357 non-null  int64  \n 15  wardsPlaced         77357 non-null  int64  \n 16  wardsDestroyed      77357 non-null  int64  \n 17  monstersKilled      77357 non-null  int64  \n 18  buildingsDestroyed  77357 non-null  int64  \n 19  winningLane         77357 non-null  int64  \n 20  suppChamp           77357 non-null  float64\n 21  botChamp            77357 non-null  float64\n 22  midChamp            77357 non-null  float64\n 23  jungleChamp         77357 non-null  float64\n 24  topChamp            77357 non-null  float64\n 25  enemySuppChamp      77357 non-null  float64\n 26  enemyBotChamp       77357 non-null  float64\n 27  enemyMidChamp       77357 non-null  float64\n 28  enemyJungleChamp    77357 non-null  float64\n 29  enemyTopChamp       77357 non-null  float64\n 30  win                 77357 non-null  float64\ndtypes: float64(16), int64(15)\nmemory usage: 18.3 MB\n"
     ]
    }
   ],
   "source": [
    "df.info()"
   ]
  },
  {
   "cell_type": "code",
   "execution_count": 20,
   "metadata": {},
   "outputs": [
    {
     "output_type": "execute_result",
     "data": {
      "text/plain": [
       "       accountLevel         ranks   gamesPlayed       winrate  \\\n",
       "count  77357.000000  77357.000000  77357.000000  77357.000000   \n",
       "mean       6.987044     -0.577091     66.814742     -0.126623   \n",
       "std      341.581261      6.924000   1272.217643      3.476676   \n",
       "min    -1963.000000    -60.000000  -8520.000000    -35.395446   \n",
       "25%     -210.000000     -3.000000   -683.000000     -1.737872   \n",
       "50%        6.000000     -1.000000     54.000000     -0.103974   \n",
       "75%      222.000000      2.000000    821.000000      1.514943   \n",
       "max     1802.000000     78.000000   8039.000000     34.790635   \n",
       "\n",
       "       playingMainRoles  playingAltRoles  playingMains  mainMasteryLvl  \\\n",
       "count      77357.000000     77357.000000  77357.000000    77357.000000   \n",
       "mean          -0.020231        -0.001241     -0.014724        0.140418   \n",
       "std            1.560289         1.343841      1.417055        3.627623   \n",
       "min           -5.000000        -5.000000     -5.000000      -35.000000   \n",
       "25%           -1.000000        -1.000000     -1.000000       -2.000000   \n",
       "50%            0.000000         0.000000      0.000000        0.000000   \n",
       "75%            1.000000         1.000000      1.000000        2.250000   \n",
       "max            5.000000         5.000000      5.000000       35.000000   \n",
       "\n",
       "       mainMasteryPts         kills  ...      botChamp      midChamp  \\\n",
       "count    7.735700e+04  77357.000000  ...  77357.000000  77357.000000   \n",
       "mean     8.850615e+03      0.162209  ...     58.209755     80.009320   \n",
       "std      9.151422e+05      6.160257  ...     41.113212     50.965278   \n",
       "min     -1.325851e+07    -30.000000  ...      0.000000      0.000000   \n",
       "25%     -3.811110e+05     -4.000000  ...     27.000000     30.000000   \n",
       "50%      1.081500e+04      0.000000  ...     47.000000     80.000000   \n",
       "75%      3.982410e+05      4.000000  ...    100.000000    132.000000   \n",
       "max      1.298659e+07     32.000000  ...    151.000000    151.000000   \n",
       "\n",
       "        jungleChamp      topChamp  enemySuppChamp  enemyBotChamp  \\\n",
       "count  77357.000000  77357.000000    77357.000000   77357.000000   \n",
       "mean      71.971108     74.203847       80.555787      58.419005   \n",
       "std       38.962624     40.764738       39.546344      41.258022   \n",
       "min        0.000000      0.000000        0.000000       0.000000   \n",
       "25%       37.000000     33.000000       63.000000      27.000000   \n",
       "50%       62.000000     75.000000       79.000000      47.000000   \n",
       "75%      104.000000    106.000000      112.000000     100.000000   \n",
       "max      151.000000    151.000000      151.000000     151.000000   \n",
       "\n",
       "       enemyMidChamp  enemyJungleChamp  enemyTopChamp           win  \n",
       "count   77357.000000      77357.000000   77357.000000  77357.000000  \n",
       "mean       80.024962         71.876365      74.113461      0.504660  \n",
       "std        51.026767         38.859098      40.727295      0.499982  \n",
       "min         0.000000          0.000000       0.000000      0.000000  \n",
       "25%        30.000000         37.000000      34.000000      0.000000  \n",
       "50%        80.000000         62.000000      75.000000      1.000000  \n",
       "75%       132.000000        104.000000     106.000000      1.000000  \n",
       "max       151.000000        151.000000     151.000000      1.000000  \n",
       "\n",
       "[8 rows x 31 columns]"
      ],
      "text/html": "<div>\n<style scoped>\n    .dataframe tbody tr th:only-of-type {\n        vertical-align: middle;\n    }\n\n    .dataframe tbody tr th {\n        vertical-align: top;\n    }\n\n    .dataframe thead th {\n        text-align: right;\n    }\n</style>\n<table border=\"1\" class=\"dataframe\">\n  <thead>\n    <tr style=\"text-align: right;\">\n      <th></th>\n      <th>accountLevel</th>\n      <th>ranks</th>\n      <th>gamesPlayed</th>\n      <th>winrate</th>\n      <th>playingMainRoles</th>\n      <th>playingAltRoles</th>\n      <th>playingMains</th>\n      <th>mainMasteryLvl</th>\n      <th>mainMasteryPts</th>\n      <th>kills</th>\n      <th>...</th>\n      <th>botChamp</th>\n      <th>midChamp</th>\n      <th>jungleChamp</th>\n      <th>topChamp</th>\n      <th>enemySuppChamp</th>\n      <th>enemyBotChamp</th>\n      <th>enemyMidChamp</th>\n      <th>enemyJungleChamp</th>\n      <th>enemyTopChamp</th>\n      <th>win</th>\n    </tr>\n  </thead>\n  <tbody>\n    <tr>\n      <th>count</th>\n      <td>77357.000000</td>\n      <td>77357.000000</td>\n      <td>77357.000000</td>\n      <td>77357.000000</td>\n      <td>77357.000000</td>\n      <td>77357.000000</td>\n      <td>77357.000000</td>\n      <td>77357.000000</td>\n      <td>7.735700e+04</td>\n      <td>77357.000000</td>\n      <td>...</td>\n      <td>77357.000000</td>\n      <td>77357.000000</td>\n      <td>77357.000000</td>\n      <td>77357.000000</td>\n      <td>77357.000000</td>\n      <td>77357.000000</td>\n      <td>77357.000000</td>\n      <td>77357.000000</td>\n      <td>77357.000000</td>\n      <td>77357.000000</td>\n    </tr>\n    <tr>\n      <th>mean</th>\n      <td>6.987044</td>\n      <td>-0.577091</td>\n      <td>66.814742</td>\n      <td>-0.126623</td>\n      <td>-0.020231</td>\n      <td>-0.001241</td>\n      <td>-0.014724</td>\n      <td>0.140418</td>\n      <td>8.850615e+03</td>\n      <td>0.162209</td>\n      <td>...</td>\n      <td>58.209755</td>\n      <td>80.009320</td>\n      <td>71.971108</td>\n      <td>74.203847</td>\n      <td>80.555787</td>\n      <td>58.419005</td>\n      <td>80.024962</td>\n      <td>71.876365</td>\n      <td>74.113461</td>\n      <td>0.504660</td>\n    </tr>\n    <tr>\n      <th>std</th>\n      <td>341.581261</td>\n      <td>6.924000</td>\n      <td>1272.217643</td>\n      <td>3.476676</td>\n      <td>1.560289</td>\n      <td>1.343841</td>\n      <td>1.417055</td>\n      <td>3.627623</td>\n      <td>9.151422e+05</td>\n      <td>6.160257</td>\n      <td>...</td>\n      <td>41.113212</td>\n      <td>50.965278</td>\n      <td>38.962624</td>\n      <td>40.764738</td>\n      <td>39.546344</td>\n      <td>41.258022</td>\n      <td>51.026767</td>\n      <td>38.859098</td>\n      <td>40.727295</td>\n      <td>0.499982</td>\n    </tr>\n    <tr>\n      <th>min</th>\n      <td>-1963.000000</td>\n      <td>-60.000000</td>\n      <td>-8520.000000</td>\n      <td>-35.395446</td>\n      <td>-5.000000</td>\n      <td>-5.000000</td>\n      <td>-5.000000</td>\n      <td>-35.000000</td>\n      <td>-1.325851e+07</td>\n      <td>-30.000000</td>\n      <td>...</td>\n      <td>0.000000</td>\n      <td>0.000000</td>\n      <td>0.000000</td>\n      <td>0.000000</td>\n      <td>0.000000</td>\n      <td>0.000000</td>\n      <td>0.000000</td>\n      <td>0.000000</td>\n      <td>0.000000</td>\n      <td>0.000000</td>\n    </tr>\n    <tr>\n      <th>25%</th>\n      <td>-210.000000</td>\n      <td>-3.000000</td>\n      <td>-683.000000</td>\n      <td>-1.737872</td>\n      <td>-1.000000</td>\n      <td>-1.000000</td>\n      <td>-1.000000</td>\n      <td>-2.000000</td>\n      <td>-3.811110e+05</td>\n      <td>-4.000000</td>\n      <td>...</td>\n      <td>27.000000</td>\n      <td>30.000000</td>\n      <td>37.000000</td>\n      <td>33.000000</td>\n      <td>63.000000</td>\n      <td>27.000000</td>\n      <td>30.000000</td>\n      <td>37.000000</td>\n      <td>34.000000</td>\n      <td>0.000000</td>\n    </tr>\n    <tr>\n      <th>50%</th>\n      <td>6.000000</td>\n      <td>-1.000000</td>\n      <td>54.000000</td>\n      <td>-0.103974</td>\n      <td>0.000000</td>\n      <td>0.000000</td>\n      <td>0.000000</td>\n      <td>0.000000</td>\n      <td>1.081500e+04</td>\n      <td>0.000000</td>\n      <td>...</td>\n      <td>47.000000</td>\n      <td>80.000000</td>\n      <td>62.000000</td>\n      <td>75.000000</td>\n      <td>79.000000</td>\n      <td>47.000000</td>\n      <td>80.000000</td>\n      <td>62.000000</td>\n      <td>75.000000</td>\n      <td>1.000000</td>\n    </tr>\n    <tr>\n      <th>75%</th>\n      <td>222.000000</td>\n      <td>2.000000</td>\n      <td>821.000000</td>\n      <td>1.514943</td>\n      <td>1.000000</td>\n      <td>1.000000</td>\n      <td>1.000000</td>\n      <td>2.250000</td>\n      <td>3.982410e+05</td>\n      <td>4.000000</td>\n      <td>...</td>\n      <td>100.000000</td>\n      <td>132.000000</td>\n      <td>104.000000</td>\n      <td>106.000000</td>\n      <td>112.000000</td>\n      <td>100.000000</td>\n      <td>132.000000</td>\n      <td>104.000000</td>\n      <td>106.000000</td>\n      <td>1.000000</td>\n    </tr>\n    <tr>\n      <th>max</th>\n      <td>1802.000000</td>\n      <td>78.000000</td>\n      <td>8039.000000</td>\n      <td>34.790635</td>\n      <td>5.000000</td>\n      <td>5.000000</td>\n      <td>5.000000</td>\n      <td>35.000000</td>\n      <td>1.298659e+07</td>\n      <td>32.000000</td>\n      <td>...</td>\n      <td>151.000000</td>\n      <td>151.000000</td>\n      <td>151.000000</td>\n      <td>151.000000</td>\n      <td>151.000000</td>\n      <td>151.000000</td>\n      <td>151.000000</td>\n      <td>151.000000</td>\n      <td>151.000000</td>\n      <td>1.000000</td>\n    </tr>\n  </tbody>\n</table>\n<p>8 rows × 31 columns</p>\n</div>"
     },
     "metadata": {},
     "execution_count": 20
    }
   ],
   "source": [
    "df.describe()"
   ]
  },
  {
   "cell_type": "code",
   "execution_count": 30,
   "metadata": {},
   "outputs": [],
   "source": [
    "from sklearn.preprocessing import StandardScaler, Normalizer, MinMaxScaler, RobustScaler\n",
    "import category_encoders as ce\n",
    "\n",
    "# Woe Encoding\n",
    "to_encode = ['suppChamp', 'botChamp', 'midChamp', 'jungleChamp', 'topChamp',\n",
    "             'enemySuppChamp', 'enemyBotChamp', 'enemyMidChamp', 'enemyJungleChamp', 'enemyTopChamp']\n",
    "to_scale = ['accountLevel', 'ranks', 'gamesPlayed', 'winrate', 'playingMainRoles','playingAltRoles','playingMains','mainMasteryLvl','mainMasteryPts','winningLane','kills','assists','deaths','xp','gold','minionsKilled','wardsPlaced','wardsDestroyed','monstersKilled','buildingsDestroyed']\n",
    "\n",
    "encoder = ce.WOEEncoder(cols=to_encode)\n",
    "encoder.fit(df[to_encode], df['win'])\n",
    "encoded_champs = encoder.transform(df[to_encode])\n",
    "\n",
    "tmp = pd.concat([df[to_scale], encoded_champs], axis=1)\n",
    "data = RobustScaler().fit_transform(tmp.values)\n",
    "data = pd.DataFrame(data, index=tmp.index, \n",
    "                          columns=tmp.columns)\n",
    "\n",
    "# # data = pd.concat([data, encoded_champs], axis=1)\n",
    "\n",
    "# Feature selection\n",
    "# data.drop('minionsKilled', inplace=True, axis=1)\n",
    "# data.drop('wardsPlaced', inplace=True, axis=1)\n",
    "# data.drop('wardsDestroyed', inplace=True, axis=1)\n",
    "# data.drop('accountLevel', inplace=True, axis=1)#\n",
    "# data.drop('buildingsDestroyed', inplace=True, axis=1)\n",
    "data.drop('playingAltRoles', inplace=True, axis=1)\n",
    "# data.drop('deaths', inplace=True, axis=1)\n",
    "# data.drop('assists', inplace=True, axis=1)#\n",
    "data.drop('mainMasteryPts', inplace=True, axis=1)#\n",
    "# data.drop('mainMasteryLvl', inplace=True, axis=1)\n",
    "data.drop('winningLane', inplace=True, axis=1)\n",
    "# data.drop('gamesPlayed', inplace=True, axis=1)#\n",
    "\n",
    "data['win'] = df['win']"
   ]
  },
  {
   "cell_type": "code",
   "execution_count": 31,
   "metadata": {},
   "outputs": [
    {
     "output_type": "stream",
     "name": "stdout",
     "text": [
      "<class 'pandas.core.frame.DataFrame'>\nRangeIndex: 77357 entries, 0 to 77356\nData columns (total 28 columns):\n #   Column              Non-Null Count  Dtype  \n---  ------              --------------  -----  \n 0   accountLevel        77357 non-null  float64\n 1   ranks               77357 non-null  float64\n 2   gamesPlayed         77357 non-null  float64\n 3   winrate             77357 non-null  float64\n 4   playingMainRoles    77357 non-null  float64\n 5   playingMains        77357 non-null  float64\n 6   mainMasteryLvl      77357 non-null  float64\n 7   kills               77357 non-null  float64\n 8   assists             77357 non-null  float64\n 9   deaths              77357 non-null  float64\n 10  xp                  77357 non-null  float64\n 11  gold                77357 non-null  float64\n 12  minionsKilled       77357 non-null  float64\n 13  wardsPlaced         77357 non-null  float64\n 14  wardsDestroyed      77357 non-null  float64\n 15  monstersKilled      77357 non-null  float64\n 16  buildingsDestroyed  77357 non-null  float64\n 17  suppChamp           77357 non-null  float64\n 18  botChamp            77357 non-null  float64\n 19  midChamp            77357 non-null  float64\n 20  jungleChamp         77357 non-null  float64\n 21  topChamp            77357 non-null  float64\n 22  enemySuppChamp      77357 non-null  float64\n 23  enemyBotChamp       77357 non-null  float64\n 24  enemyMidChamp       77357 non-null  float64\n 25  enemyJungleChamp    77357 non-null  float64\n 26  enemyTopChamp       77357 non-null  float64\n 27  win                 77357 non-null  float64\ndtypes: float64(28)\nmemory usage: 16.5 MB\n"
     ]
    }
   ],
   "source": [
    "data.info()"
   ]
  },
  {
   "cell_type": "code",
   "execution_count": 32,
   "metadata": {},
   "outputs": [],
   "source": [
    "from sklearn.model_selection import train_test_split\n",
    "from sklearn.model_selection import StratifiedKFold\n",
    "from sklearn.model_selection import cross_val_score\n",
    "X = data.drop(['win'], axis=1)\n",
    "y = data['win']\n",
    "X_train, X_test, y_train, y_test = train_test_split(X, y, test_size=0.10)\n",
    "cv = StratifiedKFold(n_splits=10)"
   ]
  },
  {
   "cell_type": "code",
   "execution_count": 33,
   "metadata": {},
   "outputs": [
    {
     "output_type": "stream",
     "name": "stdout",
     "text": [
      "XGB's accuracy: 80.88% -> 81.20%\n"
     ]
    }
   ],
   "source": [
    "from xgboost import XGBClassifier\n",
    "from sklearn.ensemble import RandomForestClassifier\n",
    "from sklearn.ensemble import AdaBoostClassifier\n",
    "from sklearn.ensemble import ExtraTreesClassifier\n",
    "from sklearn.ensemble import GradientBoostingClassifier\n",
    "from sklearn.linear_model import LogisticRegression\n",
    "from sklearn.naive_bayes import GaussianNB\n",
    "from sklearn.naive_bayes import BernoulliNB\n",
    "from sklearn.neural_network import MLPClassifier\n",
    "\n",
    "from sklearn.svm import SVC\n",
    "\n",
    "models = [\n",
    "    # ('SVC', SVC()),\n",
    "    ('XGB', XGBClassifier(objective='binary:logistic', n_estimators=1200, min_child_weight=2, max_depth=3, learning_rate=0.05, gamma=0.0, colsample_bytree=0.8999999999999999))\n",
    "    # ('RF', RandomForestClassifier()),\n",
    "    # ('ADA', AdaBoostClassifier()),\n",
    "    # ('GBC', GradientBoostingClassifier(learning_rate=0.05, max_depth=2, min_samples_leaf=20, min_samples_split=100, n_estimators=1200)),\n",
    "    # ('LR', LogisticRegression())\n",
    "]\n",
    "\n",
    "for model in models:\n",
    "    scores = cross_val_score(model[1], X, y, scoring='accuracy', cv=cv, n_jobs=-1)\n",
    "\n",
    "    model[1].fit(X_train, y_train)\n",
    "    predictions = model[1].predict(X_test)\n",
    "\n",
    "    print(f\"{model[0]}'s accuracy: {np.mean(scores)*100:.2f}%\", '->' ,f'{np.mean(predictions == y_test)*100:.2f}%')\n",
    "    # print(f\"{model[0]}'s test acccuracy: {np.mean(predictions == y_test)*100:.2f}%\")"
   ]
  },
  {
   "cell_type": "code",
   "execution_count": 25,
   "metadata": {},
   "outputs": [
    {
     "output_type": "stream",
     "name": "stdout",
     "text": [
      "FEATURE IMPORTANCE:\n"
     ]
    },
    {
     "output_type": "execute_result",
     "data": {
      "text/plain": [
       "{'gold': 0.36852592,\n",
       " 'xp': 0.19585846,\n",
       " 'monstersKilled': 0.08387419,\n",
       " 'ranks': 0.07130289,\n",
       " 'winrate': 0.05724228,\n",
       " 'playingMains': 0.029243246,\n",
       " 'kills': 0.02264456,\n",
       " 'enemyMidChamp': 0.012858113,\n",
       " 'midChamp': 0.011989759,\n",
       " 'topChamp': 0.0117944,\n",
       " 'enemyTopChamp': 0.010615545,\n",
       " 'gamesPlayed': 0.010033689,\n",
       " 'enemySuppChamp': 0.009928437,\n",
       " 'suppChamp': 0.009908625,\n",
       " 'jungleChamp': 0.009846776,\n",
       " 'enemyJungleChamp': 0.009061797,\n",
       " 'deaths': 0.0089819655,\n",
       " 'minionsKilled': 0.008456881,\n",
       " 'botChamp': 0.008089778,\n",
       " 'playingMainRoles': 0.008054503,\n",
       " 'enemyBotChamp': 0.007530028,\n",
       " 'assists': 0.007177622,\n",
       " 'accountLevel': 0.006193109,\n",
       " 'mainMasteryLvl': 0.0061520957,\n",
       " 'wardsPlaced': 0.005078223,\n",
       " 'wardsDestroyed': 0.0050610425,\n",
       " 'buildingsDestroyed': 0.0044959895}"
      ]
     },
     "metadata": {},
     "execution_count": 25
    }
   ],
   "source": [
    "d = {}\n",
    "for col,score in zip(X_train.columns,models[0][1].feature_importances_):\n",
    "    d.update({col:score})\n",
    "print('FEATURE IMPORTANCE:')\n",
    "{k: v for k, v in sorted(d.items(), key=lambda item: item[1], reverse=True)}"
   ]
  },
  {
   "cell_type": "code",
   "execution_count": null,
   "metadata": {},
   "outputs": [],
   "source": [
    "from sklearn.model_selection import RandomizedSearchCV\n",
    "from scipy.stats import uniform as sp_randFloat\n",
    "from scipy.stats import randint as sp_randInt\n",
    "\n",
    "model = XGBClassifier()\n",
    "\n",
    "parameters = {\n",
    "    \"learning_rate\"    : np.arange(0.05, 0.50, 0.05),\n",
    "    \"max_depth\"        : np.arange(2, 15, 1),\n",
    "    \"n_estimators\"     : np.arange(60, 1200, 40),\n",
    "    \"min_child_weight\" : np.arange(1, 10, 1),\n",
    "    \"gamma\"            : np.arange(0.0, 1.0, 0.05),\n",
    "    \"colsample_bytree\" : np.arange(0.5, 1.0, 0.1),\n",
    "    \"objective\"        : ['binary:logistic'],\n",
    "}\n",
    "\n",
    "random = RandomizedSearchCV(estimator=model, param_distributions = parameters, \n",
    "                           cv=3, n_iter=500, n_jobs=-1, verbose=1)\n",
    "random.fit(X_train[:10000], y_train[:10000])\n",
    "df.head()"
   ]
  },
  {
   "cell_type": "code",
   "execution_count": 129,
   "metadata": {},
   "outputs": [
    {
     "output_type": "stream",
     "name": "stdout",
     "text": [
      "========================================================\n\t\tResults from Random Search \n========================================================\n\n The best score across ALL searched params:\n 0.803600306041402\n\n The best parameters across ALL searched params:\n {'objective': 'binary:logistic', 'n_estimators': 460, 'min_child_weight': 2, 'max_depth': 3, 'learning_rate': 0.05, 'gamma': 0.0, 'colsample_bytree': 0.8999999999999999}\n\n ========================================================\n"
     ]
    }
   ],
   "source": [
    "print(\"========================================================\")\n",
    "print(\"\\t\\tResults from Random Search \" )\n",
    "print(\"========================================================\")\n",
    "print(\"\\n The best score across ALL searched params:\\n\",\n",
    "        randm.best_score_)\n",
    "\n",
    "print(\"\\n The best parameters across ALL searched params:\\n\",\n",
    "        randm.best_params_)\n",
    "print(\"\\n =====================================================\")"
   ]
  },
  {
   "cell_type": "code",
   "execution_count": null,
   "metadata": {},
   "outputs": [],
   "source": []
  }
 ]
}